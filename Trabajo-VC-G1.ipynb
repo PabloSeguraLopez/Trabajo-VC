{
 "cells": [
  {
   "cell_type": "markdown",
   "metadata": {},
   "source": [
    "# Trabajo de Curso VC\n",
    "\n",
    "### Autores\n",
    "Kilian Armas Pérez\n",
    "\n",
    "Pablo Segura López"
   ]
  },
  {
   "cell_type": "code",
   "execution_count": null,
   "metadata": {},
   "outputs": [],
   "source": [
    "# pip install torch==1.10.0+cpu torchvision==0.11.0+cpu torchaudio==0.10.0 -f https://download.pytorch.org/whl/torch_stable.html\n",
    "# pip install matplotlib\n",
    "# pip install numpy\n",
    "# pip install ffmpeg\n",
    "# pip install opencv-python\n",
    "# pip install scipy\n",
    "# pip install torchsummary\n",
    "# añadir el checkpoint\n",
    "# pip install ffprobe\n",
    "# Añadir al path el ffmpeg, la carpeta bin"
   ]
  },
  {
   "cell_type": "code",
   "execution_count": null,
   "metadata": {},
   "outputs": [],
   "source": []
  }
 ],
 "metadata": {
  "language_info": {
   "name": "python"
  }
 },
 "nbformat": 4,
 "nbformat_minor": 2
}
